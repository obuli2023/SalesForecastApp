{
 "cells": [
  {
   "cell_type": "code",
   "execution_count": 1,
   "metadata": {},
   "outputs": [
    {
     "name": "stdout",
     "output_type": "stream",
     "text": [
      "Requirement already satisfied: Flask-Cors in c:\\users\\obuli o\\anaconda3\\lib\\site-packages (4.0.0)\n",
      "Requirement already satisfied: Flask>=0.9 in c:\\users\\obuli o\\anaconda3\\lib\\site-packages (from Flask-Cors) (1.1.2)\n",
      "Requirement already satisfied: Werkzeug>=0.15 in c:\\users\\obuli o\\anaconda3\\lib\\site-packages (from Flask>=0.9->Flask-Cors) (1.0.1)\n",
      "Requirement already satisfied: click>=5.1 in c:\\users\\obuli o\\anaconda3\\lib\\site-packages (from Flask>=0.9->Flask-Cors) (7.1.2)\n",
      "Requirement already satisfied: itsdangerous>=0.24 in c:\\users\\obuli o\\anaconda3\\lib\\site-packages (from Flask>=0.9->Flask-Cors) (1.1.0)\n",
      "Requirement already satisfied: Jinja2>=2.10.1 in c:\\users\\obuli o\\anaconda3\\lib\\site-packages (from Flask>=0.9->Flask-Cors) (2.11.2)\n",
      "Requirement already satisfied: MarkupSafe>=0.23 in c:\\users\\obuli o\\anaconda3\\lib\\site-packages (from Jinja2>=2.10.1->Flask>=0.9->Flask-Cors) (1.1.1)\n"
     ]
    }
   ],
   "source": [
    "!pip install Flask-Cors\n"
   ]
  },
  {
   "cell_type": "code",
   "execution_count": null,
   "metadata": {},
   "outputs": [
    {
     "name": "stdout",
     "output_type": "stream",
     "text": [
      " * Serving Flask app \"__main__\" (lazy loading)\n",
      " * Environment: production\n",
      "   WARNING: This is a development server. Do not use it in a production deployment.\n",
      "   Use a production WSGI server instead.\n",
      " * Debug mode: off\n"
     ]
    },
    {
     "name": "stderr",
     "output_type": "stream",
     "text": [
      " * Running on http://127.0.0.1:5000/ (Press CTRL+C to quit)\n"
     ]
    },
    {
     "name": "stdout",
     "output_type": "stream",
     "text": [
      "file saved\n"
     ]
    },
    {
     "name": "stderr",
     "output_type": "stream",
     "text": [
      "127.0.0.1 - - [03/Mar/2024 17:21:28] \"\u001b[37mPOST / HTTP/1.1\u001b[0m\" 200 -\n"
     ]
    },
    {
     "name": "stdout",
     "output_type": "stream",
     "text": [
      "File saved successfully!\n",
      "file saved\n"
     ]
    },
    {
     "name": "stderr",
     "output_type": "stream",
     "text": [
      "127.0.0.1 - - [03/Mar/2024 17:24:10] \"\u001b[37mPOST / HTTP/1.1\u001b[0m\" 200 -\n"
     ]
    },
    {
     "name": "stdout",
     "output_type": "stream",
     "text": [
      "File saved successfully!\n",
      "file saved\n",
      "file saved\n"
     ]
    },
    {
     "name": "stderr",
     "output_type": "stream",
     "text": [
      "127.0.0.1 - - [03/Mar/2024 17:24:16] \"\u001b[37mPOST / HTTP/1.1\u001b[0m\" 200 -\n"
     ]
    },
    {
     "name": "stdout",
     "output_type": "stream",
     "text": [
      "File saved successfully!\n"
     ]
    },
    {
     "name": "stderr",
     "output_type": "stream",
     "text": [
      "127.0.0.1 - - [03/Mar/2024 17:24:18] \"\u001b[37mPOST / HTTP/1.1\u001b[0m\" 200 -\n"
     ]
    },
    {
     "name": "stdout",
     "output_type": "stream",
     "text": [
      "File saved successfully!\n",
      "file saved\n"
     ]
    },
    {
     "name": "stderr",
     "output_type": "stream",
     "text": [
      "127.0.0.1 - - [03/Mar/2024 17:26:01] \"\u001b[37mPOST / HTTP/1.1\u001b[0m\" 200 -\n"
     ]
    },
    {
     "name": "stdout",
     "output_type": "stream",
     "text": [
      "File saved successfully!\n"
     ]
    }
   ],
   "source": [
    "import io\n",
    "import matplotlib.pyplot as plt\n",
    "from flask import Flask, request, jsonify, Response\n",
    "import matplotlib.pyplot as plt\n",
    "import pandas as pd\n",
    "from sklearn.ensemble import RandomForestRegressor\n",
    "import json\n",
    "from sklearn.metrics import mean_absolute_error, mean_squared_error\n",
    "import numpy as np\n",
    "from flask_cors import CORS\n",
    "import os\n",
    "\n",
    "app = Flask(__name__)\n",
    "CORS(app, resources={r\"/*\": {\"origins\": \"http://localhost:4200\"}})\n",
    "\n",
    "\n",
    "def get_metrics(actual, predicted):\n",
    "    mape = np.mean(np.abs((actual - predicted) / actual)) * 100\n",
    "    mae = np.mean(np.abs(actual - predicted))\n",
    "    mse = np.mean((actual - predicted) ** 2)\n",
    "    rmse = np.sqrt(mse)\n",
    "    return {\"MAPE\": round(mape, 2), \"MAE\": round(mae, 2), \"MSE\": round(mse, 2), \"RMSE\": round(rmse, 2)}\n",
    "\n",
    "\n",
    "@app.route('/', methods=['POST','GET'])\n",
    "def forecast():\n",
    "    file = request.files['csvFile']\n",
    "    if file.filename == '':\n",
    "        return \"no file selected\"\n",
    "    file.save(file.filename)\n",
    "    print('file saved')\n",
    "    df = pd.read_csv(file.filename, parse_dates=['Order Date'], dayfirst=True)\n",
    "\n",
    "    # get form-data parameters\n",
    "    periodicity = request.form['periodicity']\n",
    "    periods = int(request.form['periods'])\n",
    "\n",
    "    # Extract the features and target variable\n",
    "    df['year'] = df['Order Date'].dt.year\n",
    "    df['month'] = df['Order Date'].dt.month\n",
    "    df['week'] = df['Order Date'].dt.isocalendar().week\n",
    "    df['day_of_week'] = df['Order Date'].dt.dayofweek\n",
    "    df['day_of_month'] = df['Order Date'].dt.day\n",
    "    df['lag_1'] = df['Sales'].shift(1).fillna(method='bfill')\n",
    "    df['lag_2'] = df['Sales'].shift(2).fillna(method='bfill')\n",
    "    X = df[['year', 'month', 'week', 'day_of_week', 'day_of_month', 'lag_1', 'lag_2']]\n",
    "    y = df['Sales']\n",
    "\n",
    "    # Train the random forest regressor model on the entire dataset\n",
    "    rf_model = RandomForestRegressor()\n",
    "    rf_model.fit(X, y)\n",
    "\n",
    "    # Prepare new data for prediction (e.g., future dates)\n",
    "    max_date = df['Order Date'].max()\n",
    "    if periodicity == 'D':\n",
    "        new_data = pd.date_range(start=max_date, periods=periods+1, freq=periodicity)[1:]\n",
    "    else:\n",
    "        new_data = pd.date_range(start=max_date, periods=periods, freq=periodicity)\n",
    "    new_data_df = pd.DataFrame({'Order Date': new_data})\n",
    "    new_data_df['year'] = new_data_df['Order Date'].dt.year\n",
    "    new_data_df['month'] = new_data_df['Order Date'].dt.month\n",
    "    new_data_df['week'] = new_data_df['Order Date'].dt.isocalendar().week\n",
    "    new_data_df['day_of_week'] = new_data_df['Order Date'].dt.dayofweek\n",
    "    new_data_df['day_of_month'] = new_data_df['Order Date'].dt.day\n",
    "    new_data_df['lag_1'] = df['Sales'].iloc[-1]\n",
    "    new_data_df['lag_2'] = df['Sales'].iloc[-2]\n",
    "    new_data_X = new_data_df[['year', 'month', 'week', 'day_of_week', 'day_of_month', 'lag_1', 'lag_2']]\n",
    "    # Make predictions on the new data\n",
    "    new_data_predictions = rf_model.predict(new_data_X)\n",
    "\n",
    "    # Get the actual values for the new data\n",
    "    actual_values = y.iloc[-periods:].reset_index(drop=True)\n",
    "\n",
    "    # Calculate the metrics for the predicted values\n",
    "    metrics = get_metrics(actual_values, new_data_predictions)\n",
    "\n",
    "    # Create a pandas dataframe to store the predictions\n",
    "    predictions_df = pd.DataFrame({'Order Date': new_data, 'Sales Predictions': new_data_predictions})\n",
    "\n",
    "  # Convert the dataframe to CSV format\n",
    "    csv_output = predictions_df.to_csv(index=False)\n",
    "    \n",
    "    file_path = 'predictions.csv'\n",
    "    with open(file_path, 'w') as f:\n",
    "        f.write(csv_output)\n",
    "\n",
    "     # check if the file was saved successfully\n",
    "    if os.path.isfile(file_path):\n",
    "        print('File saved successfully!')\n",
    "    else:\n",
    "        print('Error: File not saved.')\n",
    "    \n",
    "\n",
    "    # Set the response headers\n",
    "    headers = {\n",
    "        'Content-Disposition': 'attachment; filename=\"predictions.csv\"',\n",
    "        'Content-Type': 'text/csv'\n",
    "    }\n",
    "\n",
    "    # Return the response\n",
    "    return Response(\n",
    "        csv_output,\n",
    "        headers=headers,\n",
    "        mimetype='text/csv'\n",
    "    ) \n",
    "if __name__ == '__main__':\n",
    "    app.run(debug=False)\n"
   ]
  },
  {
   "cell_type": "code",
   "execution_count": null,
   "metadata": {},
   "outputs": [],
   "source": []
  }
 ],
 "metadata": {
  "kernelspec": {
   "display_name": "Python 3",
   "language": "python",
   "name": "python3"
  },
  "language_info": {
   "codemirror_mode": {
    "name": "ipython",
    "version": 3
   },
   "file_extension": ".py",
   "mimetype": "text/x-python",
   "name": "python",
   "nbconvert_exporter": "python",
   "pygments_lexer": "ipython3",
   "version": "3.8.5"
  }
 },
 "nbformat": 4,
 "nbformat_minor": 4
}
